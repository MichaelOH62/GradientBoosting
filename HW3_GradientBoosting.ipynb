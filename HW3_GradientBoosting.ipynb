{
  "nbformat": 4,
  "nbformat_minor": 0,
  "metadata": {
    "colab": {
      "provenance": []
    },
    "kernelspec": {
      "name": "python3",
      "display_name": "Python 3"
    },
    "language_info": {
      "name": "python"
    }
  },
  "cells": [
    {
      "cell_type": "markdown",
      "source": [
        "Michael O'Hanlon\\\n",
        "Professor Monogioudis\\\n",
        "CS301101\\\n",
        "11/17/2022\n",
        "\n",
        "Assignment #3: Electromyography and Gradient Boosting"
      ],
      "metadata": {
        "id": "IYhOcDddpPjt"
      }
    },
    {
      "cell_type": "markdown",
      "source": [
        "# Background and Information\n",
        "\n",
        "Gradient Boosting is a very popular and effective machine learning effective. It works to combine several weak models or learners into a strong model, where a weak model is defined as one with poor accuracy performance. If a model struggles to perform better than complete random predictions, it can be classified as a weak model. So, the motivation behind using Gradient Boosting to take several models with poor accuracy performance and combine them into a single strong model that has good accuracy, which if what we want of course!\n",
        "\\\n",
        "\\\n",
        "\\\n",
        "What follows is the four steps of the Gradient Boosting Algorithm.\n",
        "\\\n",
        "\\\n",
        "\\\n",
        "The Gradient Boosting Algorithm:\\\n",
        "![](https://drive.google.com/uc?export=view&id=1-4Ai4qRnqSM6I74AYL9qPcihuX9cLGct)\n",
        "\n",
        "When M is sufficiently large, the result is a strong composite model which can be used to make predictions.\n",
        "\\\n",
        "\\\n",
        "\\\n",
        "For the classification task, the loss function is defined as:\\\n",
        "![](https://drive.google.com/uc?export=view&id=1MIuSSvHCDbI2H7IH3H5ru-FkVu2rYAGi)\n",
        "\n",
        "However, in the case of multiclass classification, which will be applied later, the loss function is defined as:\\\n",
        "![](https://drive.google.com/uc?export=view&id=10T9G2VYHVJR-CgvRmb4kRAROfkfvV4U-)\n",
        "\\\n",
        "\\\n",
        "\\\n",
        "The trick behind Gradient Boosting is to fit a new model to the *residual errors* that are created by the previous model. As expected from it's name, Gradient Boosting utilizes calculating the gradient for every step. This is used to update the weights to ensure we are actually heading in the right direction.\n",
        "\\\n",
        "\\\n",
        "\\\n",
        "An important component of Gradient Boosting is to finely tune the two hyperparameters, `learning_rate` and `n_estimators`. The first hyperparameter, `learning_rate`, is used to provide a weight to how much each weak learner actually contributes. The second, `n_estimators`, is used to give a number to the amount of models in the ensemble. These two hyperparameters must be tuned to prevent overfitting and ensure the resultant model is high in accuracy.\n",
        "\\\n",
        "\\\n",
        "\\\n",
        "In this notebook, Gradient Boosting will be implemented from scratch using JAX libraries. The implementation will then be applied to a Electromyography dataset to see it's performance in action."
      ],
      "metadata": {
        "id": "A22QX8yEpVh8"
      }
    },
    {
      "cell_type": "markdown",
      "source": [
        "# Coding from scratch using JAX"
      ],
      "metadata": {
        "id": "ScVOf9R_pbG4"
      }
    },
    {
      "cell_type": "code",
      "source": [
        "\"\"\"\n",
        "Implementation of Gradient Boosting from scratch.\n",
        "Utilizes JAX libraries to perform classification.\n",
        "\n",
        "Video Reference: \n",
        "https://www.youtube.com/watch?v=SstuvS-tVc0&list=WL&index=2&t=7s&ab_channel=AleksaGordi%C4%87-TheAIEpiphany\n",
        "\n",
        "Useful Links:\n",
        "https://towardsdatascience.com/gradient-boosting-classification-explained-through-python-60cc980eeb3d\n",
        "https://www.simplilearn.com/gradient-boosting-algorithm-in-python-article\n",
        "https://github.com/groverpr/Machine-Learning/blob/master/notebooks/01_Gradient_Boosting_Scratch.ipynb\n",
        "\n",
        "https://gkaissis.github.io/post/2020-03-15-rfgb/\n",
        "https://github.com/eriklindernoren/ML-From-Scratch/blob/master/mlfromscratch/supervised_learning/gradient_boosting.py\n",
        "\"\"\"\n",
        "\n",
        "\"\"\"\n",
        "#Necessary imports\n",
        "import jax\n",
        "import jax.numpy as jnp\n",
        "from sklearn.tree import DecisionTreeClassifier\n",
        "\n",
        "#Loss function for classification task\n",
        "def CrossEntropy(y_true:jnp.array, y_proba:jnp.array):\n",
        "    y_proba = jnp.clip(y_proba, 1e-5, 1 - 1e-5)\n",
        "    return jnp.sum(- y_true * jnp.log(y_proba) - (1 - y_true) * jnp.log(1 - y_proba))\n",
        "\n",
        "#Class for Gradient Boosting\n",
        "class GradientBooster:\n",
        "    #Construct a new GradientBooster\n",
        "    def __init__(self, n_estimators, learning_rate, **kwargs):\n",
        "        self.n_estimators = n_estimators\n",
        "        self.learning_rate = learning_rate\n",
        "        self.loss = CrossEntropy\n",
        "\n",
        "        #Create all of the estimators to use together\n",
        "        self.estimators = []\n",
        "        for _ in range(self.n_estimators):\n",
        "                self.estimators.append(DecisionTreeClassifier(**kwargs))\n",
        "\n",
        "    #Function to train the classifier with given Xs and ys\n",
        "    def fit(self, X:np.array, y:np.array):\n",
        "        y_pred = np.full(np.shape(y), np.mean(y))\n",
        "        for i, estimator in enumerate(self.estimators):\n",
        "            gradient = jax.grad(self.loss, argnums=1)(y.astype(np.float32), y_pred.astype(np.float32))\n",
        "            self.estimators[i].fit(X, gradient)\n",
        "            update = self.estimators[i].predict(X)\n",
        "            y_pred -= (self.learning_rate * update)\n",
        "\n",
        "    #Function to make predictions based on X data\n",
        "    def predict(self, X:np.array):\n",
        "        y_pred = np.zeros(X.shape[0], dtype=np.float32)\n",
        "        for estimator in self.estimators:\n",
        "            y_pred -= (self.learning_rate * estimator.predict(X))\n",
        "\n",
        "        #Return the prediction\n",
        "        return np.where(1/(1 + np.exp(-y_pred))>.5, 1, 0)\n",
        "\"\"\""
      ],
      "metadata": {
        "id": "XrCKGPsOFdIf",
        "colab": {
          "base_uri": "https://localhost:8080/",
          "height": 109
        },
        "outputId": "22eff044-ee3d-490b-9c45-396547ae647d"
      },
      "execution_count": 1,
      "outputs": [
        {
          "output_type": "execute_result",
          "data": {
            "text/plain": [
              "'\\n#Necessary imports\\nimport jax\\nimport jax.numpy as jnp\\nfrom sklearn.tree import DecisionTreeClassifier\\n\\n#Loss function for classification task\\ndef CrossEntropy(y_true:jnp.array, y_proba:jnp.array):\\n    y_proba = jnp.clip(y_proba, 1e-5, 1 - 1e-5)\\n    return jnp.sum(- y_true * jnp.log(y_proba) - (1 - y_true) * jnp.log(1 - y_proba))\\n\\n#Class for Gradient Boosting\\nclass GradientBooster:\\n    #Construct a new GradientBooster\\n    def __init__(self, n_estimators, learning_rate, **kwargs):\\n        self.n_estimators = n_estimators\\n        self.learning_rate = learning_rate\\n        self.loss = CrossEntropy\\n\\n        #Create all of the estimators to use together\\n        self.estimators = []\\n        for _ in range(self.n_estimators):\\n                self.estimators.append(DecisionTreeClassifier(**kwargs))\\n\\n    #Function to train the classifier with given Xs and ys\\n    def fit(self, X:np.array, y:np.array):\\n        y_pred = np.full(np.shape(y), np.mean(y))\\n        for i, estimator in enumerate(self.estimators):\\n            gradient = jax.grad(self.loss, argnums=1)(y.astype(np.float32), y_pred.astype(np.float32))\\n            self.estimators[i].fit(X, gradient)\\n            update = self.estimators[i].predict(X)\\n            y_pred -= (self.learning_rate * update)\\n\\n    #Function to make predictions based on X data\\n    def predict(self, X:np.array):\\n        y_pred = np.zeros(X.shape[0], dtype=np.float32)\\n        for estimator in self.estimators:\\n            y_pred -= (self.learning_rate * estimator.predict(X))\\n\\n        #Return the prediction\\n        return np.where(1/(1 + np.exp(-y_pred))>.5, 1, 0)\\n'"
            ],
            "application/vnd.google.colaboratory.intrinsic+json": {
              "type": "string"
            }
          },
          "metadata": {},
          "execution_count": 1
        }
      ]
    },
    {
      "cell_type": "markdown",
      "source": [
        "# EMG Dataset"
      ],
      "metadata": {
        "id": "hRLDeKfCphXR"
      }
    },
    {
      "cell_type": "code",
      "source": [
        "\"\"\"\n",
        "Mount Google Drive\n",
        "\"\"\"\n",
        "\n",
        "from google.colab import drive\n",
        "drive.mount('/content/drive')"
      ],
      "metadata": {
        "id": "vY7ABiWbFYbP",
        "colab": {
          "base_uri": "https://localhost:8080/"
        },
        "outputId": "8f3fe8c9-23dd-4f6c-cb2d-fc0a7bd8e906"
      },
      "execution_count": 2,
      "outputs": [
        {
          "output_type": "stream",
          "name": "stdout",
          "text": [
            "Mounted at /content/drive\n"
          ]
        }
      ]
    },
    {
      "cell_type": "code",
      "source": [
        "\"\"\"\n",
        "Import the data into the environment and unzip\n",
        "\"\"\"\n",
        "\n",
        "import sys\n",
        "import os\n",
        "\n",
        "! cp \"/content/drive/MyDrive/Fall_2022/CS301_F22/Homework/Homework 3/EMG Physical Action Data Set.rar\" \"EMG Physical Action Data Set.rar\"\n",
        "\n",
        "! pip install unrar\n",
        "! unrar x \"EMG Physical Action Data Set.rar\""
      ],
      "metadata": {
        "colab": {
          "base_uri": "https://localhost:8080/"
        },
        "id": "dHywFCM8QtaY",
        "outputId": "10508539-5f4e-454c-9486-5570640fec82"
      },
      "execution_count": 3,
      "outputs": [
        {
          "output_type": "stream",
          "name": "stdout",
          "text": [
            "Looking in indexes: https://pypi.org/simple, https://us-python.pkg.dev/colab-wheels/public/simple/\n",
            "Collecting unrar\n",
            "  Downloading unrar-0.4-py3-none-any.whl (25 kB)\n",
            "Installing collected packages: unrar\n",
            "Successfully installed unrar-0.4\n",
            "\n",
            "UNRAR 5.50 freeware      Copyright (c) 1993-2017 Alexander Roshal\n",
            "\n",
            "\n",
            "Extracting from EMG Physical Action Data Set.rar\n",
            "\n",
            "Creating    EMG Physical Action Data Set                              OK\n",
            "Extracting  EMG Physical Action Data Set/readme.txt                      \b\b\b\b  0%\b\b\b\b\b  OK \n",
            "Creating    EMG Physical Action Data Set/sub1                         OK\n",
            "Creating    EMG Physical Action Data Set/sub1/Aggressive              OK\n",
            "Creating    EMG Physical Action Data Set/sub1/Aggressive/log          OK\n",
            "Extracting  EMG Physical Action Data Set/sub1/Aggressive/log/Elbowing.log     \b\b\b\b  0%\b\b\b\b\b  OK \n",
            "Extracting  EMG Physical Action Data Set/sub1/Aggressive/log/FrontKicking.log     \b\b\b\b  0%\b\b\b\b  1%\b\b\b\b\b  OK \n",
            "Extracting  EMG Physical Action Data Set/sub1/Aggressive/log/Hamering.log     \b\b\b\b  1%\b\b\b\b\b  OK \n",
            "Extracting  EMG Physical Action Data Set/sub1/Aggressive/log/Headering.log     \b\b\b\b  1%\b\b\b\b  2%\b\b\b\b\b  OK \n",
            "Extracting  EMG Physical Action Data Set/sub1/Aggressive/log/Kneeing.log     \b\b\b\b  2%\b\b\b\b\b  OK \n",
            "Extracting  EMG Physical Action Data Set/sub1/Aggressive/log/Pulling.log     \b\b\b\b  2%\b\b\b\b  3%\b\b\b\b\b  OK \n",
            "Extracting  EMG Physical Action Data Set/sub1/Aggressive/log/Punching.log     \b\b\b\b  3%\b\b\b\b\b  OK \n",
            "Extracting  EMG Physical Action Data Set/sub1/Aggressive/log/Pushing.log     \b\b\b\b  4%\b\b\b\b\b  OK \n",
            "Extracting  EMG Physical Action Data Set/sub1/Aggressive/log/SideKicking.log     \b\b\b\b  4%\b\b\b\b\b  OK \n",
            "Extracting  EMG Physical Action Data Set/sub1/Aggressive/log/Slapping.log     \b\b\b\b  5%\b\b\b\b\b  OK \n",
            "Creating    EMG Physical Action Data Set/sub1/Aggressive/txt          OK\n",
            "Extracting  EMG Physical Action Data Set/sub1/Aggressive/txt/Elbowing.txt     \b\b\b\b  5%\b\b\b\b  6%\b\b\b\b\b  OK \n",
            "Extracting  EMG Physical Action Data Set/sub1/Aggressive/txt/Frontkicking.txt     \b\b\b\b  6%\b\b\b\b\b  OK \n",
            "Extracting  EMG Physical Action Data Set/sub1/Aggressive/txt/Hamering.txt     \b\b\b\b  7%\b\b\b\b\b  OK \n",
            "Extracting  EMG Physical Action Data Set/sub1/Aggressive/txt/Headering.txt     \b\b\b\b  7%\b\b\b\b  8%\b\b\b\b\b  OK \n",
            "Extracting  EMG Physical Action Data Set/sub1/Aggressive/txt/Kneeing.txt     \b\b\b\b  8%\b\b\b\b  9%\b\b\b\b\b  OK \n",
            "Extracting  EMG Physical Action Data Set/sub1/Aggressive/txt/Pulling.txt     \b\b\b\b  9%\b\b\b\b\b  OK \n",
            "Extracting  EMG Physical Action Data Set/sub1/Aggressive/txt/Punching.txt     \b\b\b\b 10%\b\b\b\b\b  OK \n",
            "Extracting  EMG Physical Action Data Set/sub1/Aggressive/txt/Pushing.txt     \b\b\b\b 10%\b\b\b\b 11%\b\b\b\b\b  OK \n",
            "Extracting  EMG Physical Action Data Set/sub1/Aggressive/txt/Sidekicking.txt     \b\b\b\b 11%\b\b\b\b 12%\b\b\b\b\b  OK \n",
            "Extracting  EMG Physical Action Data Set/sub1/Aggressive/txt/Slapping.txt     \b\b\b\b 12%\b\b\b\b 13%\b\b\b\b\b  OK \n",
            "Creating    EMG Physical Action Data Set/sub1/Normal                  OK\n",
            "Creating    EMG Physical Action Data Set/sub1/Normal/log              OK\n",
            "Extracting  EMG Physical Action Data Set/sub1/Normal/log/Bowing.log      \b\b\b\b 13%\b\b\b\b\b  OK \n",
            "Extracting  EMG Physical Action Data Set/sub1/Normal/log/Clapping.log     \b\b\b\b 13%\b\b\b\b 14%\b\b\b\b\b  OK \n",
            "Extracting  EMG Physical Action Data Set/sub1/Normal/log/Handshaking.log     \b\b\b\b 14%\b\b\b\b\b  OK \n",
            "Extracting  EMG Physical Action Data Set/sub1/Normal/log/Hugging.log     \b\b\b\b 14%\b\b\b\b\b  OK \n",
            "Extracting  EMG Physical Action Data Set/sub1/Normal/log/Jumping.log     \b\b\b\b 15%\b\b\b\b\b  OK \n",
            "Extracting  EMG Physical Action Data Set/sub1/Normal/log/Running.log     \b\b\b\b 15%\b\b\b\b\b  OK \n",
            "Extracting  EMG Physical Action Data Set/sub1/Normal/log/Seating.log     \b\b\b\b 16%\b\b\b\b\b  OK \n",
            "Extracting  EMG Physical Action Data Set/sub1/Normal/log/Standing.log     \b\b\b\b 16%\b\b\b\b\b  OK \n",
            "Extracting  EMG Physical Action Data Set/sub1/Normal/log/Walking.log     \b\b\b\b 16%\b\b\b\b 17%\b\b\b\b\b  OK \n",
            "Extracting  EMG Physical Action Data Set/sub1/Normal/log/Waving.log      \b\b\b\b 17%\b\b\b\b\b  OK \n",
            "Creating    EMG Physical Action Data Set/sub1/Normal/txt              OK\n",
            "Extracting  EMG Physical Action Data Set/sub1/Normal/txt/Bowing.txt      \b\b\b\b 17%\b\b\b\b 18%\b\b\b\b\b  OK \n",
            "Extracting  EMG Physical Action Data Set/sub1/Normal/txt/Clapping.txt     \b\b\b\b 18%\b\b\b\b\b  OK \n",
            "Extracting  EMG Physical Action Data Set/sub1/Normal/txt/Handshaking.txt     \b\b\b\b 19%\b\b\b\b\b  OK \n",
            "Extracting  EMG Physical Action Data Set/sub1/Normal/txt/Hugging.txt     \b\b\b\b 19%\b\b\b\b 20%\b\b\b\b\b  OK \n",
            "Extracting  EMG Physical Action Data Set/sub1/Normal/txt/Jumping.txt     \b\b\b\b 20%\b\b\b\b\b  OK \n",
            "Extracting  EMG Physical Action Data Set/sub1/Normal/txt/Running.txt     \b\b\b\b 21%\b\b\b\b\b  OK \n",
            "Extracting  EMG Physical Action Data Set/sub1/Normal/txt/Seating.txt     \b\b\b\b 21%\b\b\b\b 22%\b\b\b\b\b  OK \n",
            "Extracting  EMG Physical Action Data Set/sub1/Normal/txt/Standing.txt     \b\b\b\b 22%\b\b\b\b\b  OK \n",
            "Extracting  EMG Physical Action Data Set/sub1/Normal/txt/Walking.txt     \b\b\b\b 22%\b\b\b\b 23%\b\b\b\b\b  OK \n",
            "Extracting  EMG Physical Action Data Set/sub1/Normal/txt/Waving.txt      \b\b\b\b 23%\b\b\b\b\b  OK \n",
            "Creating    EMG Physical Action Data Set/sub2                         OK\n",
            "Creating    EMG Physical Action Data Set/sub2/Aggressive              OK\n",
            "Creating    EMG Physical Action Data Set/sub2/Aggressive/log          OK\n",
            "Extracting  EMG Physical Action Data Set/sub2/Aggressive/log/Elbowing.log     \b\b\b\b 24%\b\b\b\b\b  OK \n",
            "Extracting  EMG Physical Action Data Set/sub2/Aggressive/log/Frontkicking.log     \b\b\b\b 24%\b\b\b\b\b  OK \n",
            "Extracting  EMG Physical Action Data Set/sub2/Aggressive/log/Hamering.log     \b\b\b\b 25%\b\b\b\b\b  OK \n",
            "Extracting  EMG Physical Action Data Set/sub2/Aggressive/log/Headering.log     \b\b\b\b 25%\b\b\b\b 26%\b\b\b\b\b  OK \n",
            "Extracting  EMG Physical Action Data Set/sub2/Aggressive/log/Kneeing.log     \b\b\b\b 26%\b\b\b\b\b  OK \n",
            "Extracting  EMG Physical Action Data Set/sub2/Aggressive/log/Pulling.log     \b\b\b\b 26%\b\b\b\b 27%\b\b\b\b\b  OK \n",
            "Extracting  EMG Physical Action Data Set/sub2/Aggressive/log/Punching.log     \b\b\b\b 27%\b\b\b\b\b  OK \n",
            "Extracting  EMG Physical Action Data Set/sub2/Aggressive/log/Pushing.log     \b\b\b\b 28%\b\b\b\b\b  OK \n",
            "Extracting  EMG Physical Action Data Set/sub2/Aggressive/log/Sidekicking.log     \b\b\b\b 28%\b\b\b\b 29%\b\b\b\b\b  OK \n",
            "Extracting  EMG Physical Action Data Set/sub2/Aggressive/log/Slapping.log     \b\b\b\b 29%\b\b\b\b\b  OK \n",
            "Creating    EMG Physical Action Data Set/sub2/Aggressive/txt          OK\n",
            "Extracting  EMG Physical Action Data Set/sub2/Aggressive/txt/Elbowing.txt     \b\b\b\b 29%\b\b\b\b 30%\b\b\b\b\b  OK \n",
            "Extracting  EMG Physical Action Data Set/sub2/Aggressive/txt/Frontkicking.txt     \b\b\b\b 30%\b\b\b\b 31%\b\b\b\b\b  OK \n",
            "Extracting  EMG Physical Action Data Set/sub2/Aggressive/txt/Hamering.txt     \b\b\b\b 31%\b\b\b\b 32%\b\b\b\b\b  OK \n",
            "Extracting  EMG Physical Action Data Set/sub2/Aggressive/txt/Headering.txt     \b\b\b\b 32%\b\b\b\b\b  OK \n",
            "Extracting  EMG Physical Action Data Set/sub2/Aggressive/txt/Kneeing.txt     \b\b\b\b 33%\b\b\b\b\b  OK \n",
            "Extracting  EMG Physical Action Data Set/sub2/Aggressive/txt/Pulling.txt     \b\b\b\b 33%\b\b\b\b 34%\b\b\b\b\b  OK \n",
            "Extracting  EMG Physical Action Data Set/sub2/Aggressive/txt/Punching.txt     \b\b\b\b 34%\b\b\b\b 35%\b\b\b\b\b  OK \n",
            "Extracting  EMG Physical Action Data Set/sub2/Aggressive/txt/Pushing.txt     \b\b\b\b 35%\b\b\b\b 36%\b\b\b\b\b  OK \n",
            "Extracting  EMG Physical Action Data Set/sub2/Aggressive/txt/Sidekicking.txt     \b\b\b\b 36%\b\b\b\b\b  OK \n",
            "Extracting  EMG Physical Action Data Set/sub2/Aggressive/txt/Slapping.txt     \b\b\b\b 37%\b\b\b\b\b  OK \n",
            "Creating    EMG Physical Action Data Set/sub2/Normal                  OK\n",
            "Creating    EMG Physical Action Data Set/sub2/Normal/log              OK\n",
            "Extracting  EMG Physical Action Data Set/sub2/Normal/log/Bowing.log      \b\b\b\b 37%\b\b\b\b 38%\b\b\b\b\b  OK \n",
            "Extracting  EMG Physical Action Data Set/sub2/Normal/log/Clapping.log     \b\b\b\b 38%\b\b\b\b\b  OK \n",
            "Extracting  EMG Physical Action Data Set/sub2/Normal/log/Handshaking.log     \b\b\b\b 38%\b\b\b\b 39%\b\b\b\b\b  OK \n",
            "Extracting  EMG Physical Action Data Set/sub2/Normal/log/Hugging.log     \b\b\b\b 39%\b\b\b\b\b  OK \n",
            "Extracting  EMG Physical Action Data Set/sub2/Normal/log/Jumping.log     \b\b\b\b 39%\b\b\b\b 40%\b\b\b\b\b  OK \n",
            "Extracting  EMG Physical Action Data Set/sub2/Normal/log/Running.log     \b\b\b\b 40%\b\b\b\b\b  OK \n",
            "Extracting  EMG Physical Action Data Set/sub2/Normal/log/Seating.log     \b\b\b\b 40%\b\b\b\b 41%\b\b\b\b\b  OK \n",
            "Extracting  EMG Physical Action Data Set/sub2/Normal/log/Standing.log     \b\b\b\b 41%\b\b\b\b\b  OK \n",
            "Extracting  EMG Physical Action Data Set/sub2/Normal/log/Walking.log     \b\b\b\b 41%\b\b\b\b 42%\b\b\b\b\b  OK \n",
            "Extracting  EMG Physical Action Data Set/sub2/Normal/log/Walking1v.log     \b\b\b\b 42%\b\b\b\b 43%\b\b\b\b\b  OK \n",
            "Extracting  EMG Physical Action Data Set/sub2/Normal/log/Walking3v.log     \b\b\b\b 43%\b\b\b\b\b  OK \n",
            "Extracting  EMG Physical Action Data Set/sub2/Normal/log/Waving.log      \b\b\b\b 43%\b\b\b\b 44%\b\b\b\b\b  OK \n",
            "Creating    EMG Physical Action Data Set/sub2/Normal/txt              OK\n",
            "Extracting  EMG Physical Action Data Set/sub2/Normal/txt/Bowing.txt      \b\b\b\b 44%\b\b\b\b\b  OK \n",
            "Extracting  EMG Physical Action Data Set/sub2/Normal/txt/Clapping.txt     \b\b\b\b 44%\b\b\b\b 45%\b\b\b\b\b  OK \n",
            "Extracting  EMG Physical Action Data Set/sub2/Normal/txt/Handshaking.txt     \b\b\b\b 45%\b\b\b\b 46%\b\b\b\b\b  OK \n",
            "Extracting  EMG Physical Action Data Set/sub2/Normal/txt/Hugging.txt     \b\b\b\b 46%\b\b\b\b\b  OK \n",
            "Extracting  EMG Physical Action Data Set/sub2/Normal/txt/Jumping.txt     \b\b\b\b 46%\b\b\b\b 47%\b\b\b\b\b  OK \n",
            "Extracting  EMG Physical Action Data Set/sub2/Normal/txt/Running.txt     \b\b\b\b 47%\b\b\b\b 48%\b\b\b\b\b  OK \n",
            "Extracting  EMG Physical Action Data Set/sub2/Normal/txt/Seating.txt     \b\b\b\b 48%\b\b\b\b\b  OK \n",
            "Extracting  EMG Physical Action Data Set/sub2/Normal/txt/Standing.txt     \b\b\b\b 48%\b\b\b\b 49%\b\b\b\b\b  OK \n",
            "Extracting  EMG Physical Action Data Set/sub2/Normal/txt/Walking.txt     \b\b\b\b 49%\b\b\b\b\b  OK \n",
            "Extracting  EMG Physical Action Data Set/sub2/Normal/txt/Waving.txt      \b\b\b\b 50%\b\b\b\b\b  OK \n",
            "Creating    EMG Physical Action Data Set/sub3                         OK\n",
            "Creating    EMG Physical Action Data Set/sub3/Aggressive              OK\n",
            "Creating    EMG Physical Action Data Set/sub3/Aggressive/log          OK\n",
            "Extracting  EMG Physical Action Data Set/sub3/Aggressive/log/Elbowing.log     \b\b\b\b 50%\b\b\b\b 51%\b\b\b\b\b  OK \n",
            "Extracting  EMG Physical Action Data Set/sub3/Aggressive/log/FrontKicking.log     \b\b\b\b 51%\b\b\b\b\b  OK \n",
            "Extracting  EMG Physical Action Data Set/sub3/Aggressive/log/Hamering.log     \b\b\b\b 51%\b\b\b\b 52%\b\b\b\b\b  OK \n",
            "Extracting  EMG Physical Action Data Set/sub3/Aggressive/log/Headering.log     \b\b\b\b 52%\b\b\b\b 53%\b\b\b\b\b  OK \n",
            "Extracting  EMG Physical Action Data Set/sub3/Aggressive/log/Kneeing.log     \b\b\b\b 53%\b\b\b\b\b  OK \n",
            "Extracting  EMG Physical Action Data Set/sub3/Aggressive/log/Pulling.log     \b\b\b\b 53%\b\b\b\b 54%\b\b\b\b\b  OK \n",
            "Extracting  EMG Physical Action Data Set/sub3/Aggressive/log/Punching.log     \b\b\b\b 54%\b\b\b\b\b  OK \n",
            "Extracting  EMG Physical Action Data Set/sub3/Aggressive/log/Pushing.log     \b\b\b\b 54%\b\b\b\b 55%\b\b\b\b\b  OK \n",
            "Extracting  EMG Physical Action Data Set/sub3/Aggressive/log/SideKicking.log     \b\b\b\b 55%\b\b\b\b\b  OK \n",
            "Extracting  EMG Physical Action Data Set/sub3/Aggressive/log/Slapping.log     \b\b\b\b 56%\b\b\b\b\b  OK \n",
            "Creating    EMG Physical Action Data Set/sub3/Aggressive/txt          OK\n",
            "Extracting  EMG Physical Action Data Set/sub3/Aggressive/txt/Elbowing.txt     \b\b\b\b 56%\b\b\b\b 57%\b\b\b\b\b  OK \n",
            "Extracting  EMG Physical Action Data Set/sub3/Aggressive/txt/Frontkicking.txt     \b\b\b\b 57%\b\b\b\b\b  OK \n",
            "Extracting  EMG Physical Action Data Set/sub3/Aggressive/txt/Hamering.txt     \b\b\b\b 58%\b\b\b\b 59%\b\b\b\b\b  OK \n",
            "Extracting  EMG Physical Action Data Set/sub3/Aggressive/txt/Headering.txt     \b\b\b\b 59%\b\b\b\b\b  OK \n",
            "Extracting  EMG Physical Action Data Set/sub3/Aggressive/txt/Kneeing.txt     \b\b\b\b 60%\b\b\b\b\b  OK \n",
            "Extracting  EMG Physical Action Data Set/sub3/Aggressive/txt/Pulling.txt     \b\b\b\b 60%\b\b\b\b 61%\b\b\b\b\b  OK \n",
            "Extracting  EMG Physical Action Data Set/sub3/Aggressive/txt/Punching.txt     \b\b\b\b 61%\b\b\b\b 62%\b\b\b\b\b  OK \n",
            "Extracting  EMG Physical Action Data Set/sub3/Aggressive/txt/Pushing.txt     \b\b\b\b 62%\b\b\b\b 63%\b\b\b\b\b  OK \n",
            "Extracting  EMG Physical Action Data Set/sub3/Aggressive/txt/Sidekicking.txt     \b\b\b\b 63%\b\b\b\b\b  OK \n",
            "Extracting  EMG Physical Action Data Set/sub3/Aggressive/txt/Slapping.txt     \b\b\b\b 63%\b\b\b\b 64%\b\b\b\b\b  OK \n",
            "Creating    EMG Physical Action Data Set/sub3/Normal                  OK\n",
            "Creating    EMG Physical Action Data Set/sub3/Normal/log              OK\n",
            "Extracting  EMG Physical Action Data Set/sub3/Normal/log/Bowing.log      \b\b\b\b 64%\b\b\b\b 65%\b\b\b\b\b  OK \n",
            "Extracting  EMG Physical Action Data Set/sub3/Normal/log/Clapping.log     \b\b\b\b 65%\b\b\b\b\b  OK \n",
            "Extracting  EMG Physical Action Data Set/sub3/Normal/log/Handshaking.log     \b\b\b\b 65%\b\b\b\b 66%\b\b\b\b\b  OK \n",
            "Extracting  EMG Physical Action Data Set/sub3/Normal/log/Hugging.log     \b\b\b\b 66%\b\b\b\b\b  OK \n",
            "Extracting  EMG Physical Action Data Set/sub3/Normal/log/Jumping.log     \b\b\b\b 66%\b\b\b\b 67%\b\b\b\b\b  OK \n",
            "Extracting  EMG Physical Action Data Set/sub3/Normal/log/Running.log     \b\b\b\b 67%\b\b\b\b\b  OK \n",
            "Extracting  EMG Physical Action Data Set/sub3/Normal/log/Seating.log     \b\b\b\b 67%\b\b\b\b\b  OK \n",
            "Extracting  EMG Physical Action Data Set/sub3/Normal/log/Standing.log     \b\b\b\b 68%\b\b\b\b\b  OK \n",
            "Extracting  EMG Physical Action Data Set/sub3/Normal/log/Walking.log     \b\b\b\b 68%\b\b\b\b\b  OK \n",
            "Extracting  EMG Physical Action Data Set/sub3/Normal/log/Waving.log      \b\b\b\b 69%\b\b\b\b\b  OK \n",
            "Creating    EMG Physical Action Data Set/sub3/Normal/txt              OK\n",
            "Extracting  EMG Physical Action Data Set/sub3/Normal/txt/Bowing.txt      \b\b\b\b 69%\b\b\b\b 70%\b\b\b\b\b  OK \n",
            "Extracting  EMG Physical Action Data Set/sub3/Normal/txt/Clapping.txt     \b\b\b\b 70%\b\b\b\b\b  OK \n",
            "Extracting  EMG Physical Action Data Set/sub3/Normal/txt/Handshaking.txt     \b\b\b\b 70%\b\b\b\b 71%\b\b\b\b\b  OK \n",
            "Extracting  EMG Physical Action Data Set/sub3/Normal/txt/Hugging.txt     \b\b\b\b 71%\b\b\b\b\b  OK \n",
            "Extracting  EMG Physical Action Data Set/sub3/Normal/txt/Jumping.txt     \b\b\b\b 72%\b\b\b\b\b  OK \n",
            "Extracting  EMG Physical Action Data Set/sub3/Normal/txt/Running.txt     \b\b\b\b 72%\b\b\b\b 73%\b\b\b\b\b  OK \n",
            "Extracting  EMG Physical Action Data Set/sub3/Normal/txt/Seating.txt     \b\b\b\b 73%\b\b\b\b\b  OK \n",
            "Extracting  EMG Physical Action Data Set/sub3/Normal/txt/Standing.txt     \b\b\b\b 74%\b\b\b\b\b  OK \n",
            "Extracting  EMG Physical Action Data Set/sub3/Normal/txt/Walking.txt     \b\b\b\b 74%\b\b\b\b 75%\b\b\b\b\b  OK \n",
            "Extracting  EMG Physical Action Data Set/sub3/Normal/txt/Waving.txt      \b\b\b\b 75%\b\b\b\b\b  OK \n",
            "Creating    EMG Physical Action Data Set/sub4                         OK\n",
            "Creating    EMG Physical Action Data Set/sub4/Aggressive              OK\n",
            "Creating    EMG Physical Action Data Set/sub4/Aggressive/log          OK\n",
            "Extracting  EMG Physical Action Data Set/sub4/Aggressive/log/Elbowing.log     \b\b\b\b 75%\b\b\b\b 76%\b\b\b\b\b  OK \n",
            "Extracting  EMG Physical Action Data Set/sub4/Aggressive/log/FrontKicking.log     \b\b\b\b 76%\b\b\b\b\b  OK \n",
            "Extracting  EMG Physical Action Data Set/sub4/Aggressive/log/Hamering.log     \b\b\b\b 76%\b\b\b\b 77%\b\b\b\b\b  OK \n",
            "Extracting  EMG Physical Action Data Set/sub4/Aggressive/log/Headering.log     \b\b\b\b 77%\b\b\b\b\b  OK \n",
            "Extracting  EMG Physical Action Data Set/sub4/Aggressive/log/Kneeing.log     \b\b\b\b 78%\b\b\b\b\b  OK \n",
            "Extracting  EMG Physical Action Data Set/sub4/Aggressive/log/Pulling.log     \b\b\b\b 78%\b\b\b\b 79%\b\b\b\b\b  OK \n",
            "Extracting  EMG Physical Action Data Set/sub4/Aggressive/log/Punching.log     \b\b\b\b 79%\b\b\b\b\b  OK \n",
            "Extracting  EMG Physical Action Data Set/sub4/Aggressive/log/Pushing.log     \b\b\b\b 79%\b\b\b\b 80%\b\b\b\b\b  OK \n",
            "Extracting  EMG Physical Action Data Set/sub4/Aggressive/log/SideKicking.log     \b\b\b\b 80%\b\b\b\b\b  OK \n",
            "Extracting  EMG Physical Action Data Set/sub4/Aggressive/log/Slapping.log     \b\b\b\b 81%\b\b\b\b\b  OK \n",
            "Creating    EMG Physical Action Data Set/sub4/Aggressive/txt          OK\n",
            "Extracting  EMG Physical Action Data Set/sub4/Aggressive/txt/Elbowing.txt     \b\b\b\b 81%\b\b\b\b 82%\b\b\b\b\b  OK \n",
            "Extracting  EMG Physical Action Data Set/sub4/Aggressive/txt/Frontkicking.txt     \b\b\b\b 82%\b\b\b\b\b  OK \n",
            "Extracting  EMG Physical Action Data Set/sub4/Aggressive/txt/Hamering.txt     \b\b\b\b 83%\b\b\b\b\b  OK \n",
            "Extracting  EMG Physical Action Data Set/sub4/Aggressive/txt/Headering.txt     \b\b\b\b 83%\b\b\b\b 84%\b\b\b\b\b  OK \n",
            "Extracting  EMG Physical Action Data Set/sub4/Aggressive/txt/Kneeing.txt     \b\b\b\b 84%\b\b\b\b 85%\b\b\b\b\b  OK \n",
            "Extracting  EMG Physical Action Data Set/sub4/Aggressive/txt/Pulling.txt     \b\b\b\b 85%\b\b\b\b 86%\b\b\b\b\b  OK \n",
            "Extracting  EMG Physical Action Data Set/sub4/Aggressive/txt/Punching.txt     \b\b\b\b 86%\b\b\b\b\b  OK \n",
            "Extracting  EMG Physical Action Data Set/sub4/Aggressive/txt/Pushing.txt     \b\b\b\b 87%\b\b\b\b\b  OK \n",
            "Extracting  EMG Physical Action Data Set/sub4/Aggressive/txt/Sidekicking.txt     \b\b\b\b 87%\b\b\b\b 88%\b\b\b\b\b  OK \n",
            "Extracting  EMG Physical Action Data Set/sub4/Aggressive/txt/Slapping.txt     \b\b\b\b 88%\b\b\b\b 89%\b\b\b\b\b  OK \n",
            "Creating    EMG Physical Action Data Set/sub4/Normal                  OK\n",
            "Creating    EMG Physical Action Data Set/sub4/Normal/log              OK\n",
            "Extracting  EMG Physical Action Data Set/sub4/Normal/log/Bowing.log      \b\b\b\b 89%\b\b\b\b\b  OK \n",
            "Extracting  EMG Physical Action Data Set/sub4/Normal/log/Clapping.log     \b\b\b\b 89%\b\b\b\b 90%\b\b\b\b\b  OK \n",
            "Extracting  EMG Physical Action Data Set/sub4/Normal/log/Handshaking.log     \b\b\b\b 90%\b\b\b\b\b  OK \n",
            "Extracting  EMG Physical Action Data Set/sub4/Normal/log/Hugging.log     \b\b\b\b 90%\b\b\b\b 91%\b\b\b\b\b  OK \n",
            "Extracting  EMG Physical Action Data Set/sub4/Normal/log/Jumping.log     \b\b\b\b 91%\b\b\b\b\b  OK \n",
            "Extracting  EMG Physical Action Data Set/sub4/Normal/log/Running.log     \b\b\b\b 91%\b\b\b\b 92%\b\b\b\b\b  OK \n",
            "Extracting  EMG Physical Action Data Set/sub4/Normal/log/Seating.log     \b\b\b\b 92%\b\b\b\b\b  OK \n",
            "Extracting  EMG Physical Action Data Set/sub4/Normal/log/Standing.log     \b\b\b\b 92%\b\b\b\b\b  OK \n",
            "Extracting  EMG Physical Action Data Set/sub4/Normal/log/Walking.log     \b\b\b\b 93%\b\b\b\b\b  OK \n",
            "Extracting  EMG Physical Action Data Set/sub4/Normal/log/Waving.log      \b\b\b\b 93%\b\b\b\b\b  OK \n",
            "Creating    EMG Physical Action Data Set/sub4/Normal/txt              OK\n",
            "Extracting  EMG Physical Action Data Set/sub4/Normal/txt/Bowing.txt      \b\b\b\b 94%\b\b\b\b\b  OK \n",
            "Extracting  EMG Physical Action Data Set/sub4/Normal/txt/Clapping.txt     \b\b\b\b 94%\b\b\b\b 95%\b\b\b\b\b  OK \n",
            "Extracting  EMG Physical Action Data Set/sub4/Normal/txt/Handshaking.txt     \b\b\b\b 95%\b\b\b\b\b  OK \n",
            "Extracting  EMG Physical Action Data Set/sub4/Normal/txt/Hugging.txt     \b\b\b\b 95%\b\b\b\b 96%\b\b\b\b\b  OK \n",
            "Extracting  EMG Physical Action Data Set/sub4/Normal/txt/Jumping.txt     \b\b\b\b 96%\b\b\b\b 97%\b\b\b\b\b  OK \n",
            "Extracting  EMG Physical Action Data Set/sub4/Normal/txt/Running.txt     \b\b\b\b 97%\b\b\b\b\b  OK \n",
            "Extracting  EMG Physical Action Data Set/sub4/Normal/txt/Seating.txt     \b\b\b\b 97%\b\b\b\b 98%\b\b\b\b\b  OK \n",
            "Extracting  EMG Physical Action Data Set/sub4/Normal/txt/Standing.txt     \b\b\b\b 98%\b\b\b\b\b  OK \n",
            "Extracting  EMG Physical Action Data Set/sub4/Normal/txt/Walking.txt     \b\b\b\b 98%\b\b\b\b 99%\b\b\b\b\b  OK \n",
            "Extracting  EMG Physical Action Data Set/sub4/Normal/txt/Waving.txt      \b\b\b\b 99%\b\b\b\b\b  OK \n",
            "All OK\n"
          ]
        }
      ]
    },
    {
      "cell_type": "code",
      "source": [
        "\"\"\"\n",
        "Load all of the data and append a 0 or 1\n",
        "indicating if the data is aggressive or normal\n",
        "\"\"\"\n",
        "\n",
        "import numpy as np\n",
        "\n",
        "directory = \"EMG Physical Action Data Set\"\n",
        "data = np.empty((0, 9), dtype=\"float32\")\n",
        "\n",
        "#Append a 0 or 1 to every row and then append to the data np array\n",
        "for filename in os.listdir(directory):\n",
        "    f = os.path.join(directory, filename)\n",
        "    if os.path.isdir(f):\n",
        "        for subdir in os.listdir(f):\n",
        "          subdir = os.path.join(f, subdir)\n",
        "          if os.path.isdir(f):\n",
        "            for txtdir in os.listdir(subdir):\n",
        "              txtdir = os.path.join(subdir, txtdir)\n",
        "              #Only interested in the txt files containing the data\n",
        "              if os.path.isdir(txtdir) and \"log\" not in txtdir:\n",
        "                for txtfile in os.listdir(txtdir):\n",
        "                  txtfile = os.path.join(txtdir, txtfile)\n",
        "                  if os.path.isfile(txtfile):\n",
        "                    filepath = txtfile\n",
        "                    with open(filepath) as fp:\n",
        "                        lines = fp.read().splitlines()\n",
        "                    if \"Aggressive\" in filepath:  #This file contains aggressive data\n",
        "                      with open(filepath, \"w\") as fp:\n",
        "                          for line in lines:\n",
        "                              newline = line + \"\\t0\"\n",
        "                              print(newline, file=fp)\n",
        "                    else: #This file contains normal data\n",
        "                      with open(filepath, \"w\") as fp:\n",
        "                          for line in lines:\n",
        "                              newline = line + \"\\t1\"\n",
        "                              print(newline, file=fp)\n",
        "                    txtdata = np.genfromtxt(txtfile,delimiter='\\t')\n",
        "                    data = np.append(data, txtdata, axis=0)"
      ],
      "metadata": {
        "id": "8IK8SFfRRMzp"
      },
      "execution_count": 4,
      "outputs": []
    },
    {
      "cell_type": "code",
      "source": [
        "\"\"\"\n",
        "Split the data into train, test, as well as X and y\n",
        "\"\"\"\n",
        "\n",
        "#Necessary imports\n",
        "import pandas as pd\n",
        "from sklearn.model_selection import train_test_split\n",
        "from sklearn.metrics import accuracy_score\n",
        "from sklearn.ensemble import GradientBoostingClassifier\n",
        "\n",
        "#Function to remove any NaN of inf values from the data (just in case)\n",
        "def clean_dataset(df):\n",
        "    assert isinstance(df, pd.DataFrame), \"df needs to be a pd.DataFrame\"\n",
        "    df.dropna(inplace=True)\n",
        "    indices_to_keep = ~df.isin([np.nan, np.inf, -np.inf]).any(1)\n",
        "    return df[indices_to_keep].astype(np.float64)\n",
        "\n",
        "#Create the pandas dataframe and then clean it\n",
        "df = pd.DataFrame(data)\n",
        "df = clean_dataset(df)\n",
        "\n",
        "#Split the data into two datasets, train and test\n",
        "train, test = train_test_split(df, test_size=0.2, random_state=1234)\n",
        "\n",
        "#Split the training and test dataframes into X and Y where y is aggressive/normal identifier\n",
        "X_train_df = pd.DataFrame(train, columns=[0, 1, 2, 3, 4, 5, 6, 7])\n",
        "Y_train_df = pd.DataFrame(train, columns=[8])\n",
        "X_test_df = pd.DataFrame(test, columns=[0, 1, 2, 3, 4, 5, 6, 7])\n",
        "Y_test_df = pd.DataFrame(test, columns=[8])\n",
        "\n",
        "#Convert the dataframes into numpy representations\n",
        "X_train_np = X_train_df.values\n",
        "y_train_np = Y_train_df.values\n",
        "X_test_np = X_test_df.values\n",
        "y_test_np = Y_test_df.values\n",
        "\n",
        "#Reshape the y numpy arrays\n",
        "y_train_np = y_train_np.reshape(X_train_np.shape[0])\n",
        "y_test_np = y_test_np.reshape(X_test_np.shape[0])\n",
        "\n",
        "\"\"\"\n",
        "Shape of X_train_np :  (637940, 8)\n",
        "Shape of Y_train_np :  (637940,)\n",
        "Shape of X_test_np :  (159486, 8)\n",
        "Shape of Y_test_np :  (159486,)\n",
        "\"\"\""
      ],
      "metadata": {
        "colab": {
          "base_uri": "https://localhost:8080/",
          "height": 36
        },
        "id": "r_1VyPZUrJmr",
        "outputId": "3c821858-affe-4894-e4c9-19d644f0f375"
      },
      "execution_count": 5,
      "outputs": [
        {
          "output_type": "execute_result",
          "data": {
            "text/plain": [
              "'\\nShape of X_train_np :  (637940, 8)\\nShape of Y_train_np :  (637940,)\\nShape of X_test_np :  (159486, 8)\\nShape of Y_test_np :  (159486,)\\n'"
            ],
            "application/vnd.google.colaboratory.intrinsic+json": {
              "type": "string"
            }
          },
          "metadata": {},
          "execution_count": 5
        }
      ]
    },
    {
      "cell_type": "code",
      "source": [
        "\"\"\"\n",
        "Apply the Gradient Boosting implementation to the model.\n",
        "\"\"\"\n",
        "\n",
        "#Create the GradientBoostingClassifier\n",
        "clf = GradientBoostingClassifier(n_estimators=100, learning_rate=1.0,\n",
        "    max_depth=1, random_state=0).fit(X_train_np, y_train_np)\n",
        "\n",
        "#Print it's score\n",
        "clf.score(X_test_np, y_test_np)"
      ],
      "metadata": {
        "colab": {
          "base_uri": "https://localhost:8080/"
        },
        "id": "DPc6HQk5sHZX",
        "outputId": "2dab6b34-1c7a-4307-ff34-04323251835f"
      },
      "execution_count": 6,
      "outputs": [
        {
          "output_type": "execute_result",
          "data": {
            "text/plain": [
              "0.8190938389576514"
            ]
          },
          "metadata": {},
          "execution_count": 6
        }
      ]
    }
  ]
}